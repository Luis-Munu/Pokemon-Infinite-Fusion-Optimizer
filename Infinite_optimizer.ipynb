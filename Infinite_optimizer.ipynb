{
 "cells": [
  {
   "attachments": {},
   "cell_type": "markdown",
   "metadata": {},
   "source": [
    "# Pokemon Infinite Fusion Optimizer\n",
    "\n",
    "Program created to simplify the process of finding the best fusion for a role, it lets you weight the stats, filter by name, total base stat and adjust the importance of the typing, both offensively and defensively.\n",
    "\n",
    "You can also give more importance to specific types, rewarding crucial resistances or STABS such as fighting or ground in comparison to others such as bug. :)\n",
    "\n",
    "Abilities and movesets are currently ignored, the latter can be added in the future but it probably won't."
   ]
  },
  {
   "cell_type": "code",
   "execution_count": 64,
   "metadata": {},
   "outputs": [],
   "source": [
    "import pandas as pd\n",
    "from bs4 import BeautifulSoup\n",
    "from urllib.request import urlopen\n",
    "import numpy as np\n",
    "from itertools import combinations\n",
    "\n",
    "# PARAMETERS\n",
    "\n",
    "# Weightings of HP, Attack, Defense, Sp. Atk, Sp. Def, Speed, then offensive and defensive typing scores\n",
    "# The weight the offensive and defensive typing scores receive directly affect the importance of the typing and the stats, consider them as percentages.\n",
    "profiles = {\n",
    "    'Fast physical attacker': ([1, 10, 1, 1, 1, 10], 0.3, 0.01),\n",
    "    'Fast special attacker': ([1, 1, 1, 10, 1, 10], 0.3, 0.01),\n",
    "    'Physical tank': ([8, 2, 8, 1, 4, 1], 0.01, 0.25),\n",
    "    'Special tank': ([8, 1, 4, 2, 8, 1], 0.01, 0.25),\n",
    "    'Hybrid tank': ([7, 1, 6, 2, 7, 1], 0.01, 0.3),\n",
    "    'Balanced overall': ([3, 5, 3, 6, 3, 4], 0.2, 0.15),\n",
    "    \"Physical wallbreaker\": ([6, 9, 4, 1, 3, 1], 0.2, 0.15),\n",
    "    \"Special wallbreaker\": ([6, 1, 3, 9, 4, 1], 0.15, 0.2)\n",
    "}\n",
    "\n",
    "stat_cap = 570\n",
    "use_filter = True\n",
    "\n",
    "# Filtered pokemon list\n",
    "unwanteds = ['Deoxys', 'Blissey', 'Shuckle', 'Chansey', 'Latios', 'Latias', 'Darkrai', 'Wobbuffet']\n",
    "\n",
    "# Boosted types\n",
    "boosted_types = ['fire', 'fighting', 'ground', 'water', 'dark']\n",
    "boost = 1.5\n",
    "# Nerfed types\n",
    "nerfed_types = ['rock', 'bug', 'steel', 'grass']\n",
    "nerf = 0.75\n",
    "\n",
    "# Exceptions that have their secondary type removed\n",
    "exceptions = ['Gyarados', 'Steelix', 'Dragonite', 'Moltres', 'Zapdos', 'Articuno', 'Scyther', 'Gengar', 'Haunter', 'Gastly', 'Onix', 'Golem', 'Graveler', 'Geodude', 'Charizard', 'Venusaur', 'Ivysaur', 'Bulbasaur']"
   ]
  },
  {
   "attachments": {},
   "cell_type": "markdown",
   "metadata": {},
   "source": [
    "Dataset extraction"
   ]
  },
  {
   "cell_type": "code",
   "execution_count": 65,
   "metadata": {},
   "outputs": [],
   "source": [
    "def extract_table(url, class_name):\n",
    "    html = urlopen(url).read()\n",
    "    soup = BeautifulSoup(html, 'html.parser')\n",
    "    table = soup.find('table', {'class': class_name})\n",
    "\n",
    "    data = []\n",
    "    for row in table.find_all('tr'):\n",
    "        row_data = []\n",
    "        for cell in row.find_all('td'):\n",
    "            row_data.append(cell.text.strip())\n",
    "        data.append(row_data)\n",
    "    return  pd.DataFrame([row for row in data if row != []])\n",
    "\n",
    "\n",
    "infinite_mons = extract_table(\"https://infinitefusion.fandom.com/wiki/Pok%C3%A9dex\", 'article-table')\n",
    "infinite_mons = infinite_mons.iloc[:, :2]\n",
    "infinite_mons.columns = ['Index', 'Name']\n",
    "\n",
    "pokemon_set = extract_table(\"https://pokemon-index.com/base\", 'move-lev by-base')\n",
    "pokemon_set = pokemon_set.drop(columns=[0])\n",
    "pokemon_set['Index'] = pokemon_set.index"
   ]
  },
  {
   "attachments": {},
   "cell_type": "markdown",
   "metadata": {},
   "source": [
    "Preprocessing"
   ]
  },
  {
   "cell_type": "code",
   "execution_count": 66,
   "metadata": {},
   "outputs": [],
   "source": [
    "type_dict = {'nor': 'normal', 'fig': 'fighting', 'fly': 'flying', 'poi': 'poison', 'gro': 'ground', 'roc': 'rock', 'bug': 'bug', 'gho': 'ghost', 'ste': 'steel', 'fir': 'fire', 'wat': 'water', 'gra': 'grass', 'ele': 'electric', 'psy': 'psychic', 'ice': 'ice', 'dra': 'dragon', 'dar': 'dark', 'fai': 'fairy'}\n",
    "\n",
    "pokemon_set['Type 1'] = ''; pokemon_set['Type 2'] = ''\n",
    "pokemon_set['Type 1'] = pokemon_set[2].str.split(' ').str[0].map(type_dict)\n",
    "pokemon_set['Type 2'] = pokemon_set[2].str.split(' ').str[1].map(type_dict)\n",
    "\n",
    "pokemon_set = pokemon_set.drop(columns=[2])\n",
    "pokemon_set.columns = ['Name', 'HP', 'Attack', 'Defense', 'Special Attack', 'Special Defense', 'Speed', 'Total', 'Index', 'Type 1', 'Type 2']"
   ]
  },
  {
   "attachments": {},
   "cell_type": "markdown",
   "metadata": {},
   "source": [
    "Fusion of datasets and more preprocessing"
   ]
  },
  {
   "cell_type": "code",
   "execution_count": 67,
   "metadata": {},
   "outputs": [],
   "source": [
    "pokemon_set = pd.merge(infinite_mons, pokemon_set, on='Name', how='right')\n",
    "pokemon_set = pokemon_set.loc[((pokemon_set['Index_y'] < 252) & (pokemon_set['Index_y'].notnull())) | ((pokemon_set['Index_x'].notnull()) & (pokemon_set['Index_y'].notnull()))]\n",
    "\n",
    "pokemon_set.drop(columns=['Index_x'], inplace=True)\n",
    "pokemon_set.rename(columns={'Index_y': 'Index'}, inplace=True)\n",
    "for col in ['HP', 'Attack', 'Defense', 'Special Attack', 'Special Defense', 'Speed', 'Total']: pokemon_set[col] = pokemon_set[col].astype(int)"
   ]
  },
  {
   "cell_type": "code",
   "execution_count": 68,
   "metadata": {},
   "outputs": [],
   "source": [
    "#exceptions\n",
    "pokemon_set.loc[pokemon_set['Name'].isin(exceptions), 'Type 2'] = np.nan\n",
    "\n",
    "pokemon_set.loc[(pokemon_set['Type 1'] == 'normal') & (pokemon_set['Type 2'] == 'flying'), 'Type 1'] = 'flying'\n",
    "pokemon_set.loc[(pokemon_set['Type 1'] == 'normal') & (pokemon_set['Type 2'] == 'flying'), 'Type 2'] = np.nan\n",
    "pokemon_set.loc[pokemon_set['Name'] == 'Fletchling', 'Type 1'] = 'normal'\n",
    "pokemon_set.loc[pokemon_set['Name'] == 'Fletchling', 'Type 2'] = 'flying'\n",
    "\n",
    "names = ['Dewgong', 'Magnemite', 'Magneton', 'Magnezone', 'Omanyte', 'Omastar', 'Kabuto', 'Kabutops', 'Scizor', 'Empoleon', 'Spiritomb', 'Ferrothorn']\n",
    "pokemon_set.loc[pokemon_set['Name'].isin(names), 'Type 1'], pokemon_set.loc[pokemon_set['Name'].isin(names), 'Type 2'] = pokemon_set.loc[pokemon_set['Name'].isin(names), 'Type 2'], pokemon_set.loc[pokemon_set['Name'].isin(names), 'Type 1']\n",
    "\n",
    "if use_filter: pokemon_set = pokemon_set.loc[~pokemon_set['Name'].isin(unwanteds)]"
   ]
  },
  {
   "attachments": {},
   "cell_type": "markdown",
   "metadata": {},
   "source": [
    "Type related stuff"
   ]
  },
  {
   "cell_type": "code",
   "execution_count": 69,
   "metadata": {},
   "outputs": [],
   "source": [
    "type_chart = {'normal': {'normal': 1, 'fighting': 1, 'flying': 1, 'poison': 1, 'ground': 1, 'rock': -2, 'bug': 1, 'ghost': -4, 'steel': -2, 'fire': 1, 'water': 1, 'grass': 1, 'electric': 1, 'psychic': 1, 'ice': 1, 'dragon': 1, 'dark': 1, 'fairy': 1},\n",
    "            'fighting': {'normal': 2, 'fighting': 1, 'flying': -2, 'poison': -2, 'ground': 1, 'rock': 2, 'bug': -2, 'ghost': -4, 'steel': 2, 'fire': 1, 'water': 1, 'grass': 1, 'electric': 1, 'psychic': -2, 'ice': 2, 'dragon': 1, 'dark': 2, 'fairy': -2},\n",
    "            'flying': {'normal': 1, 'fighting': 2, 'flying': 1, 'poison': 1, 'ground': 1, 'rock': -2, 'bug': 2, 'ghost': 1, 'steel': -2, 'fire': 1, 'water': 1, 'grass': 2, 'electric': -2, 'psychic': 1, 'ice': 1, 'dragon': 1, 'dark': 1, 'fairy': 1},\n",
    "            'poison': {'normal': 1, 'fighting': 1, 'flying': 1, 'poison': -2, 'ground': -2, 'rock': -2, 'bug': 1, 'ghost': -2, 'steel': -4, 'fire': 1, 'water': 1, 'grass': 2, 'electric': 1, 'psychic': 1, 'ice': 1, 'dragon': 1, 'dark': 1, 'fairy': 2},\n",
    "            'ground': {'normal': 1, 'fighting': 1, 'flying': -4, 'poison': 2, 'ground': 1, 'rock': 2, 'bug': -2, 'ghost': 1, 'steel': 2, 'fire': 2, 'water': 1, 'grass': -2, 'electric': 2, 'psychic': 1, 'ice': 1, 'dragon': 1, 'dark': 1, 'fairy': 1},\n",
    "            'rock': {'normal': 1, 'fighting': -2, 'flying': 2, 'poison': 1, 'ground': -2, 'rock': 1, 'bug': 2, 'ghost': 1, 'steel': -2, 'fire': 2, 'water': 1, 'grass': 1, 'electric': 1, 'psychic': 1, 'ice': 2, 'dragon': 1, 'dark': 1, 'fairy': 1},\n",
    "            'bug': {'normal': 1, 'fighting': -2, 'flying': -2, 'poison': -2, 'ground': 1, 'rock': 1, 'bug': 1, 'ghost': -2, 'steel': -2, 'fire': -2, 'water': 1, 'grass': 2, 'electric': 1, 'psychic': 2, 'ice': 1, 'dragon': 1, 'dark': 2, 'fairy': -2},\n",
    "            'ghost': {'normal': -4, 'fighting': 1, 'flying': 1, 'poison': 1, 'ground': 1, 'rock': 1, 'bug': 1, 'ghost': 2, 'steel': 1, 'fire': 1, 'water': 1, 'grass': 1, 'electric': 1, 'psychic': 2, 'ice': 1, 'dragon': 1, 'dark': -2, 'fairy': 1},\n",
    "            'steel': {'normal': 1, 'fighting': 1, 'flying': 1, 'poison': 1, 'ground': 1, 'rock': 2, 'bug': 1, 'ghost': 1, 'steel': -2, 'fire': -2, 'water': -2, 'grass': 1, 'electric': -2, 'psychic': -2, 'ice': 2, 'dragon': 1, 'dark': 1, 'fairy': 2},\n",
    "            'fire': {'normal': 1, 'fighting': 1, 'flying': 1, 'poison': 1, 'ground': 1, 'rock': -2, 'bug': 2, 'ghost': 1, 'steel': 2, 'fire': -2, 'water': -2, 'grass': 2, 'electric': 1, 'psychic': 1, 'ice': 2, 'dragon': -2, 'dark': 1, 'fairy': 1},\n",
    "            'water': {'normal': 1, 'fighting': 1, 'flying': 1, 'poison': 1, 'ground': 2, 'rock': 2, 'bug': 1, 'ghost': 1, 'steel': 1, 'fire': 2, 'water': -2, 'grass': -2, 'electric': 1, 'psychic': 1, 'ice': 1, 'dragon': -2, 'dark': 1, 'fairy': 1},\n",
    "            'grass': {'normal': 1, 'fighting': 1, 'flying': -2, 'poison': -2, 'ground': 2, 'rock': 2, 'bug': -2, 'ghost': 1, 'steel': -2, 'fire': -2, 'water': 2, 'grass': -2, 'electric': 1, 'psychic': 1, 'ice': 1, 'dragon': -2, 'dark': 1, 'fairy': 1},\n",
    "            'electric': {'normal': 1, 'fighting': 1, 'flying': 2, 'poison': 1, 'ground': -4, 'rock': 1, 'bug': 1, 'ghost': 1, 'steel': 1, 'fire': 1, 'water': 2, 'grass': -2, 'electric': -2, 'psychic': 1, 'ice': 1, 'dragon': -2, 'dark': 1, 'fairy': 1},\n",
    "            'psychic': {'normal': 1, 'fighting': 2, 'flying': 1, 'poison': 2, 'ground': 1, 'rock': 1, 'bug': 1, 'ghost': 1, 'steel': -2, 'fire': 1, 'water': 1, 'grass': 1, 'electric': 1, 'psychic': -2, 'ice': 1, 'dragon': 1, 'dark': -4, 'fairy': 1},\n",
    "            'ice': {'normal': 1, 'fighting': 1, 'flying': 2, 'poison': 1, 'ground': 2, 'rock': 1, 'bug': 1, 'ghost': 1, 'steel': -2, 'fire': -2, 'water': -2, 'grass': 2, 'electric': 1, 'psychic': 1, 'ice': -2, 'dragon': 2, 'dark': 1, 'fairy': 1},\n",
    "            'dragon': {'normal': 1, 'fighting': 1, 'flying': 1, 'poison': 1, 'ground': 1, 'rock': 1, 'bug': 1, 'ghost': 1, 'steel': -2, 'fire': 1, 'water': 1, 'grass': 1, 'electric': 1, 'psychic': 1, 'ice': 1, 'dragon': 2, 'dark': 1, 'fairy': -4},\n",
    "            'dark': {'normal': 1, 'fighting': -2, 'flying': 1, 'poison': 1, 'ground': 1, 'rock': 1, 'bug': 1, 'ghost': 2, 'steel': 1, 'fire': 1, 'water': 1, 'grass': 1, 'electric': 1, 'psychic': 2, 'ice': 1, 'dragon': 1, 'dark': -2, 'fairy': -2},\n",
    "            'fairy': {'normal': 1, 'fighting': 2, 'flying': 1, 'poison': -2, 'ground': 1, 'rock': 1, 'bug': 1, 'ghost': 1, 'steel': -2, 'fire': -2, 'water': 1, 'grass': 1, 'electric': 1, 'psychic': 1, 'ice': 1, 'dragon': 2, 'dark': 2, 'fairy': 1}}\n",
    "\n",
    "def calculate_multiplier(type, value):\n",
    "    if type in boosted_types:\n",
    "        return value * boost\n",
    "    elif type in nerfed_types:\n",
    "        return value * nerf\n",
    "    return value\n",
    "\n",
    "def get_defensive_score(type1, type2):\n",
    "    types = [type1, int(type2)] if not type(type2) == np.str_ else [type1]\n",
    "    score = 0\n",
    "    for attacking_type, value in type_chart.items():\n",
    "        local_scores = [0 if type(value[defending_type]) == float or abs(value[defending_type]) < 2 else value[defending_type] for defending_type in types]\n",
    "        if 4 in local_scores or -4 in local_scores: score += 4\n",
    "        elif not(sum(local_scores) == 0): score += -sum([calculate_multiplier(attacking_type, score) for score in local_scores])\n",
    "    return score\n",
    "\n",
    "def get_offensive_score(type1, type2):\n",
    "    def eval_type(offensive_type):\n",
    "        return np.sum([calculate_multiplier(defending_type, value) if type(value) != np.str_ and value != 0 else -4 for defending_type, value in type_chart[offensive_type].items()])\n",
    "    return eval_type(type1) + eval_type(type2) if type(type2) != np.str_ else eval_type(type1)\n",
    "\n",
    "\n",
    "def determine_fusion_types(types1, types2):\n",
    "    types = []\n",
    "    for i in range(len(types1)):\n",
    "        type1_1, type1_2 = types1[i]; type2_1, type2_2 = types2[i]\n",
    "        if type(type1_2) == float: type1_2 = type1_1\n",
    "        if type(type2_2) == float: type2_2 = type2_1\n",
    "\n",
    "        if type1_1 == type2_2: type2_2 = np.nan\n",
    "        if type2_1 == type1_2: type1_2 = np.nan\n",
    "\n",
    "        types.append([[type1_1, type2_2], [type2_1, type1_2]])\n",
    "    return np.array(types)"
   ]
  },
  {
   "attachments": {},
   "cell_type": "markdown",
   "metadata": {},
   "source": [
    "Rating"
   ]
  },
  {
   "cell_type": "code",
   "execution_count": 70,
   "metadata": {},
   "outputs": [],
   "source": [
    "def calc_fusion_stats(stats_pairs):\n",
    "    stats1 = stats_pairs[:, 0, :]\n",
    "    stats2 = stats_pairs[:, 1, :]\n",
    "    fusion1 = np.array([stats1[:, 0] * 2/3 + stats2[:, 0] * 1/3,\n",
    "                        stats1[:, 1] * 1/3 + stats2[:, 1] * 2/3,\n",
    "                        stats1[:, 2] * 1/3 + stats2[:, 2] * 2/3,\n",
    "                        stats1[:, 3] * 2/3 + stats2[:, 3] * 1/3,\n",
    "                        stats1[:, 4] * 2/3 + stats2[:, 4] * 1/3,\n",
    "                        stats1[:, 5] * 1/3 + stats2[:, 5] * 2/3]).T.astype(int)\n",
    "    \n",
    "    fusion2 = np.array([stats1[:, 0] * 1/3 + stats2[:, 0] * 2/3,\n",
    "                        stats1[:, 1] * 2/3 + stats2[:, 1] * 1/3,\n",
    "                        stats1[:, 2] * 2/3 + stats2[:, 2] * 1/3,\n",
    "                        stats1[:, 3] * 1/3 + stats2[:, 3] * 2/3,\n",
    "                        stats1[:, 4] * 1/3 + stats2[:, 4] * 2/3,\n",
    "                        stats1[:, 5] * 2/3 + stats2[:, 5] * 1/3]).T.astype(int)\n",
    "    return np.stack([fusion1, fusion2], axis=1)\n",
    "\n",
    "def rate_pokemon(stats, multipliers, types, off_mul, def_mul):\n",
    "    defensive_score = get_defensive_score(types[0], types[1]) / 20 * def_mul\n",
    "    offensive_score = get_offensive_score(types[0], types[1]) / 10 * off_mul\n",
    "    stat_score = (stats[0] * multipliers[0] + stats[1] * multipliers[1] + stats[2] * multipliers[2] + stats[3] * multipliers[3] + stats[4] * multipliers[4] + stats[5] * multipliers[5])  / 1000 * (1 - off_mul - def_mul)\n",
    "    \n",
    "    return (stat_score + defensive_score + offensive_score) * 30\n",
    "\n",
    "def rate_fusion(stats, stat_multipliers, fusion_types, off_mul, def_mul):\n",
    "    return [rate_pokemon(statn, stat_multipliers, fusion_typen, off_mul, def_mul) for statn, fusion_typen in zip(stats, fusion_types)]"
   ]
  },
  {
   "attachments": {},
   "cell_type": "markdown",
   "metadata": {},
   "source": [
    "### Main algorithm\n",
    "\n",
    "A bit confusing, works with data in parallel."
   ]
  },
  {
   "cell_type": "code",
   "execution_count": 71,
   "metadata": {},
   "outputs": [],
   "source": [
    "def find_best_fusion(profile, dataset, cap, force_pokemon=None):\n",
    "    pokemon = dataset[[\"Name\", \"Total\", \"Type 1\", \"Type 2\", \"HP\", \"Attack\", \"Defense\", \"Special Attack\", \"Special Defense\", \"Speed\"]]\n",
    "    pokemon = pokemon[pokemon[\"Total\"] < cap]\n",
    "    name_type_cols = [\"Name\", \"Type 1\", \"Type 2\"]\n",
    "    stats_cols = [\"HP\", \"Attack\", \"Defense\", \"Special Attack\", \"Special Defense\", \"Speed\"]\n",
    "    pairs = np.array(list(combinations(pokemon[name_type_cols + stats_cols].values, 2)))\n",
    "    if force_pokemon:\n",
    "        pairs = pairs[(pairs[:, 0, 0] == force_pokemon) | (pairs[:, 1, 0] == force_pokemon)]\n",
    "\n",
    "    fusion_stats = calc_fusion_stats(pairs[:, :, 3:])\n",
    "    fusion_types = determine_fusion_types(pairs[:, 0, 1:3], pairs[:, 1, 1:3])\n",
    "    fusion_scores = rate_fusion(fusion_stats.reshape(-1, 6), profile[0], fusion_types.reshape(-1, 2), profile[1], profile[2])\n",
    "    fusion_scores = np.array(fusion_scores).reshape(-1, 2)\n",
    "\n",
    "    max_index = np.unravel_index(fusion_scores.argmax(), fusion_scores.shape)\n",
    "    best_fusion_history = (pairs[max_index[0], 0, 0], pairs[max_index[0], 1, 0], fusion_scores[max_index], fusion_stats[max_index[0], max_index[1]])\n",
    "\n",
    "    return [best_fusion_history]"
   ]
  },
  {
   "attachments": {},
   "cell_type": "markdown",
   "metadata": {},
   "source": [
    "### RESULTS"
   ]
  },
  {
   "cell_type": "code",
   "execution_count": 72,
   "metadata": {},
   "outputs": [
    {
     "name": "stdout",
     "output_type": "stream",
     "text": [
      "Fast physical attacker\n",
      "[('Parasect', 'Haxorus', 51.845699999999994, array([ 70, 112,  83,  60,  73,  52]))]\n",
      "Fast special attacker\n",
      "[('Parasect', 'Chandelure', 50.8485, array([ 60,  81,  83, 116,  86,  46]))]\n",
      "Physical tank\n",
      "[('Parasect', 'Steelix', 52.840799999999994, array([ 65,  88, 160,  58,  75,  30]))]\n",
      "Special tank\n",
      "[('Parasect', 'Snorlax', 53.15579999999999, array([126, 100,  75,  63, 100,  30]))]\n",
      "Hybrid tank\n",
      "[('Parasect', 'Aegislash', 50.42219999999999, array([ 60,  80, 103,  53, 126,  40]))]\n",
      "Balanced overall\n",
      "[('Parasect', 'Togekiss', 48.58200000000001, array([ 76,  80,  85, 100, 103,  46]))]\n",
      "Physical wallbreaker\n",
      "[('Parasect', 'Rhyperior', 52.67100000000001, array([ 96, 110,  96,  56,  63,  33]))]\n",
      "Special wallbreaker\n",
      "[('Parasect', 'Togekiss', 50.493, array([ 76,  80,  85, 100, 103,  46]))]\n"
     ]
    }
   ],
   "source": [
    "for profile_name, profile in profiles.items():\n",
    "    print(profile_name)\n",
    "    print(list(reversed(find_best_fusion(profile, pokemon_set, stat_cap, \"Parasect\")[-5:])))   # The last argument is optional "
   ]
  },
  {
   "cell_type": "code",
   "execution_count": null,
   "metadata": {},
   "outputs": [],
   "source": []
  }
 ],
 "metadata": {
  "kernelspec": {
   "display_name": "Python 3",
   "language": "python",
   "name": "python3"
  },
  "language_info": {
   "codemirror_mode": {
    "name": "ipython",
    "version": 3
   },
   "file_extension": ".py",
   "mimetype": "text/x-python",
   "name": "python",
   "nbconvert_exporter": "python",
   "pygments_lexer": "ipython3",
   "version": "3.10.7"
  },
  "orig_nbformat": 4,
  "vscode": {
   "interpreter": {
    "hash": "42352a86e3adacb86e12afe5a66a7ac9a96204e9ebe417d97d4931ac8a0211a4"
   }
  }
 },
 "nbformat": 4,
 "nbformat_minor": 2
}
